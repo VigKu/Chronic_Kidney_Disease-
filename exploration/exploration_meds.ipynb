{
 "cells": [
  {
   "cell_type": "code",
   "execution_count": 1,
   "id": "506ac8c1",
   "metadata": {},
   "outputs": [],
   "source": [
    "import pandas as pd\r\n",
    "import numpy as np\r\n",
    "import seaborn as sns\r\n",
    "import matplotlib\r\n",
    "from matplotlib import cm\r\n",
    "import matplotlib.pyplot as plt\r\n",
    "import klib\r\n",
    "%matplotlib inline\r\n",
    "\r\n",
    "src = 'dataScienceTask/T_meds.csv'\r\n",
    "dest = 'saved_plots/demo/'"
   ]
  },
  {
   "cell_type": "code",
   "execution_count": 2,
   "id": "9f291aa7",
   "metadata": {},
   "outputs": [
    {
     "data": {
      "text/html": [
       "<div>\n",
       "<style scoped>\n",
       "    .dataframe tbody tr th:only-of-type {\n",
       "        vertical-align: middle;\n",
       "    }\n",
       "\n",
       "    .dataframe tbody tr th {\n",
       "        vertical-align: top;\n",
       "    }\n",
       "\n",
       "    .dataframe thead th {\n",
       "        text-align: right;\n",
       "    }\n",
       "</style>\n",
       "<table border=\"1\" class=\"dataframe\">\n",
       "  <thead>\n",
       "    <tr style=\"text-align: right;\">\n",
       "      <th></th>\n",
       "      <th>id</th>\n",
       "      <th>drug</th>\n",
       "      <th>daily_dosage</th>\n",
       "      <th>start_day</th>\n",
       "      <th>end_day</th>\n",
       "    </tr>\n",
       "  </thead>\n",
       "  <tbody>\n",
       "    <tr>\n",
       "      <th>0</th>\n",
       "      <td>0</td>\n",
       "      <td>atorvastatin</td>\n",
       "      <td>10.0</td>\n",
       "      <td>19</td>\n",
       "      <td>109</td>\n",
       "    </tr>\n",
       "    <tr>\n",
       "      <th>1</th>\n",
       "      <td>0</td>\n",
       "      <td>atorvastatin</td>\n",
       "      <td>10.0</td>\n",
       "      <td>117</td>\n",
       "      <td>207</td>\n",
       "    </tr>\n",
       "    <tr>\n",
       "      <th>2</th>\n",
       "      <td>0</td>\n",
       "      <td>losartan</td>\n",
       "      <td>100.0</td>\n",
       "      <td>19</td>\n",
       "      <td>289</td>\n",
       "    </tr>\n",
       "    <tr>\n",
       "      <th>3</th>\n",
       "      <td>0</td>\n",
       "      <td>losartan</td>\n",
       "      <td>100.0</td>\n",
       "      <td>403</td>\n",
       "      <td>493</td>\n",
       "    </tr>\n",
       "    <tr>\n",
       "      <th>4</th>\n",
       "      <td>0</td>\n",
       "      <td>losartan</td>\n",
       "      <td>100.0</td>\n",
       "      <td>587</td>\n",
       "      <td>677</td>\n",
       "    </tr>\n",
       "  </tbody>\n",
       "</table>\n",
       "</div>"
      ],
      "text/plain": [
       "   id          drug  daily_dosage  start_day  end_day\n",
       "0   0  atorvastatin          10.0         19      109\n",
       "1   0  atorvastatin          10.0        117      207\n",
       "2   0      losartan         100.0         19      289\n",
       "3   0      losartan         100.0        403      493\n",
       "4   0      losartan         100.0        587      677"
      ]
     },
     "execution_count": 2,
     "metadata": {},
     "output_type": "execute_result"
    }
   ],
   "source": [
    "# read csv\r\n",
    "df_meds = pd.read_csv(src)\r\n",
    "df_meds.head()"
   ]
  },
  {
   "cell_type": "code",
   "execution_count": 3,
   "id": "0f7095bd",
   "metadata": {},
   "outputs": [
    {
     "data": {
      "text/html": [
       "<div>\n",
       "<style scoped>\n",
       "    .dataframe tbody tr th:only-of-type {\n",
       "        vertical-align: middle;\n",
       "    }\n",
       "\n",
       "    .dataframe tbody tr th {\n",
       "        vertical-align: top;\n",
       "    }\n",
       "\n",
       "    .dataframe thead th {\n",
       "        text-align: right;\n",
       "    }\n",
       "</style>\n",
       "<table border=\"1\" class=\"dataframe\">\n",
       "  <thead>\n",
       "    <tr style=\"text-align: right;\">\n",
       "      <th></th>\n",
       "      <th>id</th>\n",
       "      <th>Stage_Progress</th>\n",
       "    </tr>\n",
       "  </thead>\n",
       "  <tbody>\n",
       "    <tr>\n",
       "      <th>0</th>\n",
       "      <td>0</td>\n",
       "      <td>True</td>\n",
       "    </tr>\n",
       "    <tr>\n",
       "      <th>1</th>\n",
       "      <td>1</td>\n",
       "      <td>False</td>\n",
       "    </tr>\n",
       "    <tr>\n",
       "      <th>2</th>\n",
       "      <td>2</td>\n",
       "      <td>True</td>\n",
       "    </tr>\n",
       "    <tr>\n",
       "      <th>3</th>\n",
       "      <td>3</td>\n",
       "      <td>False</td>\n",
       "    </tr>\n",
       "    <tr>\n",
       "      <th>4</th>\n",
       "      <td>4</td>\n",
       "      <td>True</td>\n",
       "    </tr>\n",
       "  </tbody>\n",
       "</table>\n",
       "</div>"
      ],
      "text/plain": [
       "   id  Stage_Progress\n",
       "0   0            True\n",
       "1   1           False\n",
       "2   2            True\n",
       "3   3           False\n",
       "4   4            True"
      ]
     },
     "execution_count": 3,
     "metadata": {},
     "output_type": "execute_result"
    }
   ],
   "source": [
    "# read csv\r\n",
    "df_stage = pd.read_csv('dataScienceTask/T_stage.csv')\r\n",
    "df_stage.head()"
   ]
  },
  {
   "cell_type": "code",
   "execution_count": 5,
   "id": "f6f0ddc1",
   "metadata": {},
   "outputs": [],
   "source": [
    "#df_res = pd.merge(df_meds, df_stage, on=\"id\", how=\"left\")\r\n",
    "#df_res.head()"
   ]
  },
  {
   "cell_type": "markdown",
   "id": "48c58f9a",
   "metadata": {},
   "source": [
    "# 1) Exploration"
   ]
  },
  {
   "cell_type": "code",
   "execution_count": 6,
   "id": "9542b1dd",
   "metadata": {},
   "outputs": [
    {
     "name": "stdout",
     "output_type": "stream",
     "text": [
      "Num of patients with meds: 272\n",
      "Types of drugs: 21\n",
      "Types of daily dosages: 26\n",
      "Max end day of medication: 698\n"
     ]
    }
   ],
   "source": [
    "print(f\"Num of patients with meds: {len(df_meds['id'].unique())}\")\n",
    "print(f\"Types of drugs: {len(df_meds['drug'].unique())}\")\n",
    "print(f\"Types of daily dosages: {len(df_meds['daily_dosage'].unique())}\")\n",
    "print(f\"Max end day of medication: {df_meds['end_day'].max()}\")"
   ]
  },
  {
   "cell_type": "markdown",
   "id": "f0a4a436",
   "metadata": {},
   "source": [
    "### 1a) Number of drugs used"
   ]
  },
  {
   "cell_type": "code",
   "execution_count": 7,
   "id": "a07c38ac",
   "metadata": {},
   "outputs": [
    {
     "data": {
      "text/html": [
       "<div>\n",
       "<style scoped>\n",
       "    .dataframe tbody tr th:only-of-type {\n",
       "        vertical-align: middle;\n",
       "    }\n",
       "\n",
       "    .dataframe tbody tr th {\n",
       "        vertical-align: top;\n",
       "    }\n",
       "\n",
       "    .dataframe thead th {\n",
       "        text-align: right;\n",
       "    }\n",
       "</style>\n",
       "<table border=\"1\" class=\"dataframe\">\n",
       "  <thead>\n",
       "    <tr style=\"text-align: right;\">\n",
       "      <th></th>\n",
       "      <th>drug</th>\n",
       "      <th>daily_dosage</th>\n",
       "      <th>start_day</th>\n",
       "      <th>end_day</th>\n",
       "    </tr>\n",
       "    <tr>\n",
       "      <th>id</th>\n",
       "      <th></th>\n",
       "      <th></th>\n",
       "      <th></th>\n",
       "      <th></th>\n",
       "    </tr>\n",
       "  </thead>\n",
       "  <tbody>\n",
       "    <tr>\n",
       "      <th>0</th>\n",
       "      <td>3</td>\n",
       "      <td>3</td>\n",
       "      <td>9</td>\n",
       "      <td>10</td>\n",
       "    </tr>\n",
       "    <tr>\n",
       "      <th>1</th>\n",
       "      <td>1</td>\n",
       "      <td>2</td>\n",
       "      <td>4</td>\n",
       "      <td>4</td>\n",
       "    </tr>\n",
       "    <tr>\n",
       "      <th>2</th>\n",
       "      <td>1</td>\n",
       "      <td>1</td>\n",
       "      <td>2</td>\n",
       "      <td>2</td>\n",
       "    </tr>\n",
       "    <tr>\n",
       "      <th>3</th>\n",
       "      <td>1</td>\n",
       "      <td>1</td>\n",
       "      <td>4</td>\n",
       "      <td>4</td>\n",
       "    </tr>\n",
       "    <tr>\n",
       "      <th>4</th>\n",
       "      <td>3</td>\n",
       "      <td>3</td>\n",
       "      <td>13</td>\n",
       "      <td>13</td>\n",
       "    </tr>\n",
       "  </tbody>\n",
       "</table>\n",
       "</div>"
      ],
      "text/plain": [
       "    drug  daily_dosage  start_day  end_day\n",
       "id                                        \n",
       "0      3             3          9       10\n",
       "1      1             2          4        4\n",
       "2      1             1          2        2\n",
       "3      1             1          4        4\n",
       "4      3             3         13       13"
      ]
     },
     "execution_count": 7,
     "metadata": {},
     "output_type": "execute_result"
    }
   ],
   "source": [
    "d = df_meds.groupby(['id']).nunique()\n",
    "d.head()"
   ]
  },
  {
   "cell_type": "code",
   "execution_count": 8,
   "id": "fb785d33",
   "metadata": {},
   "outputs": [
    {
     "data": {
      "text/plain": [
       "Text(0.5, 1.0, 'Number of patients who require 1 or more drugs')"
      ]
     },
     "execution_count": 8,
     "metadata": {},
     "output_type": "execute_result"
    },
    {
     "data": {
      "image/png": "[encoded data removed]",
      "text/plain": [
       "<Figure size 432x288 with 1 Axes>"
      ]
     },
     "metadata": {
      "needs_background": "light"
     },
     "output_type": "display_data"
    }
   ],
   "source": [
    "# Most number of drugs used\n",
    "ax = sns.countplot(x=\"drug\", data=df_meds.groupby(['id']).nunique())\n",
    "ax.set_ylabel(\"Num of patients\")\n",
    "ax.set_title(\"Number of patients who require 1 or more drugs\")\n",
    "# ax.tick_params(axis='x', rotation=90)"
   ]
  },
  {
   "cell_type": "code",
   "execution_count": 9,
   "id": "9559fb56",
   "metadata": {},
   "outputs": [
    {
     "data": {
      "text/html": [
       "<div>\n",
       "<style scoped>\n",
       "    .dataframe tbody tr th:only-of-type {\n",
       "        vertical-align: middle;\n",
       "    }\n",
       "\n",
       "    .dataframe tbody tr th {\n",
       "        vertical-align: top;\n",
       "    }\n",
       "\n",
       "    .dataframe thead th {\n",
       "        text-align: right;\n",
       "    }\n",
       "</style>\n",
       "<table border=\"1\" class=\"dataframe\">\n",
       "  <thead>\n",
       "    <tr style=\"text-align: right;\">\n",
       "      <th></th>\n",
       "      <th>id</th>\n",
       "      <th>drug</th>\n",
       "      <th>daily_dosage</th>\n",
       "      <th>start_day</th>\n",
       "      <th>end_day</th>\n",
       "      <th>Stage_Progress_x</th>\n",
       "      <th>Stage_Progress_y</th>\n",
       "    </tr>\n",
       "  </thead>\n",
       "  <tbody>\n",
       "    <tr>\n",
       "      <th>0</th>\n",
       "      <td>0</td>\n",
       "      <td>3</td>\n",
       "      <td>3</td>\n",
       "      <td>9</td>\n",
       "      <td>10</td>\n",
       "      <td>1</td>\n",
       "      <td>True</td>\n",
       "    </tr>\n",
       "    <tr>\n",
       "      <th>1</th>\n",
       "      <td>1</td>\n",
       "      <td>1</td>\n",
       "      <td>2</td>\n",
       "      <td>4</td>\n",
       "      <td>4</td>\n",
       "      <td>1</td>\n",
       "      <td>False</td>\n",
       "    </tr>\n",
       "    <tr>\n",
       "      <th>2</th>\n",
       "      <td>2</td>\n",
       "      <td>1</td>\n",
       "      <td>1</td>\n",
       "      <td>2</td>\n",
       "      <td>2</td>\n",
       "      <td>1</td>\n",
       "      <td>True</td>\n",
       "    </tr>\n",
       "    <tr>\n",
       "      <th>3</th>\n",
       "      <td>3</td>\n",
       "      <td>1</td>\n",
       "      <td>1</td>\n",
       "      <td>4</td>\n",
       "      <td>4</td>\n",
       "      <td>1</td>\n",
       "      <td>False</td>\n",
       "    </tr>\n",
       "    <tr>\n",
       "      <th>4</th>\n",
       "      <td>4</td>\n",
       "      <td>3</td>\n",
       "      <td>3</td>\n",
       "      <td>13</td>\n",
       "      <td>13</td>\n",
       "      <td>1</td>\n",
       "      <td>True</td>\n",
       "    </tr>\n",
       "  </tbody>\n",
       "</table>\n",
       "</div>"
      ],
      "text/plain": [
       "   id  drug  daily_dosage  start_day  end_day  Stage_Progress_x  \\\n",
       "0   0     3             3          9       10                 1   \n",
       "1   1     1             2          4        4                 1   \n",
       "2   2     1             1          2        2                 1   \n",
       "3   3     1             1          4        4                 1   \n",
       "4   4     3             3         13       13                 1   \n",
       "\n",
       "   Stage_Progress_y  \n",
       "0              True  \n",
       "1             False  \n",
       "2              True  \n",
       "3             False  \n",
       "4              True  "
      ]
     },
     "execution_count": 9,
     "metadata": {},
     "output_type": "execute_result"
    }
   ],
   "source": [
    "df_res = pd.merge(df_meds, df_stage, on=\"id\", how=\"left\")\n",
    "pd.merge(df_res.groupby(['id']).nunique(), df_stage, on=\"id\", how=\"left\").head()"
   ]
  },
  {
   "cell_type": "code",
   "execution_count": 10,
   "id": "e2abb12a",
   "metadata": {},
   "outputs": [
    {
     "data": {
      "text/plain": [
       "Text(0.5, 1.0, 'Number of patients who require 1 or more drugs')"
      ]
     },
     "execution_count": 10,
     "metadata": {},
     "output_type": "execute_result"
    },
    {
     "data": {
      "image/png": "[encoded data removed]",
      "text/plain": [
       "<Figure size 432x288 with 1 Axes>"
      ]
     },
     "metadata": {
      "needs_background": "light"
     },
     "output_type": "display_data"
    }
   ],
   "source": [
    "# Number of drugs used for each target label\n",
    "ax = sns.countplot(x=\"Stage_Progress\", hue=\"drug\", data=pd.merge(df_meds.groupby(['id']).nunique(), df_stage, on=\"id\", how=\"left\"))\n",
    "ax.set_ylabel(\"Num of patients\")\n",
    "ax.set_title(\"Number of patients who require 1 or more drugs\")\n",
    "# ax.tick_params(axis='x', rotation=90)"
   ]
  },
  {
   "cell_type": "markdown",
   "id": "afa0b418",
   "metadata": {},
   "source": [
    "### 1b) Type of drug used"
   ]
  },
  {
   "cell_type": "code",
   "execution_count": 11,
   "id": "abc95194",
   "metadata": {},
   "outputs": [
    {
     "data": {
      "text/html": [
       "<div>\n",
       "<style scoped>\n",
       "    .dataframe tbody tr th:only-of-type {\n",
       "        vertical-align: middle;\n",
       "    }\n",
       "\n",
       "    .dataframe tbody tr th {\n",
       "        vertical-align: top;\n",
       "    }\n",
       "\n",
       "    .dataframe thead th {\n",
       "        text-align: right;\n",
       "    }\n",
       "</style>\n",
       "<table border=\"1\" class=\"dataframe\">\n",
       "  <thead>\n",
       "    <tr style=\"text-align: right;\">\n",
       "      <th></th>\n",
       "      <th>id</th>\n",
       "      <th>drug</th>\n",
       "      <th>daily_dosage</th>\n",
       "      <th>start_day</th>\n",
       "      <th>end_day</th>\n",
       "    </tr>\n",
       "  </thead>\n",
       "  <tbody>\n",
       "    <tr>\n",
       "      <th>0</th>\n",
       "      <td>0</td>\n",
       "      <td>atorvastatin</td>\n",
       "      <td>1</td>\n",
       "      <td>2</td>\n",
       "      <td>2</td>\n",
       "    </tr>\n",
       "    <tr>\n",
       "      <th>1</th>\n",
       "      <td>0</td>\n",
       "      <td>losartan</td>\n",
       "      <td>1</td>\n",
       "      <td>3</td>\n",
       "      <td>3</td>\n",
       "    </tr>\n",
       "    <tr>\n",
       "      <th>2</th>\n",
       "      <td>0</td>\n",
       "      <td>metformin</td>\n",
       "      <td>1</td>\n",
       "      <td>6</td>\n",
       "      <td>6</td>\n",
       "    </tr>\n",
       "    <tr>\n",
       "      <th>3</th>\n",
       "      <td>1</td>\n",
       "      <td>atorvastatin</td>\n",
       "      <td>2</td>\n",
       "      <td>4</td>\n",
       "      <td>4</td>\n",
       "    </tr>\n",
       "    <tr>\n",
       "      <th>4</th>\n",
       "      <td>2</td>\n",
       "      <td>rosuvastatin</td>\n",
       "      <td>1</td>\n",
       "      <td>2</td>\n",
       "      <td>2</td>\n",
       "    </tr>\n",
       "  </tbody>\n",
       "</table>\n",
       "</div>"
      ],
      "text/plain": [
       "   id          drug  daily_dosage  start_day  end_day\n",
       "0   0  atorvastatin             1          2        2\n",
       "1   0      losartan             1          3        3\n",
       "2   0     metformin             1          6        6\n",
       "3   1  atorvastatin             2          4        4\n",
       "4   2  rosuvastatin             1          2        2"
      ]
     },
     "execution_count": 11,
     "metadata": {},
     "output_type": "execute_result"
    }
   ],
   "source": [
    "#d=df_meds.groupby(['drug'], as_index=False).nunique()\n",
    "d = df_meds.groupby(['id','drug'], as_index=False).nunique()\n",
    "d.head()"
   ]
  },
  {
   "cell_type": "code",
   "execution_count": 12,
   "id": "9ce5aec4",
   "metadata": {},
   "outputs": [
    {
     "data": {
      "image/png": "[encoded data removed]",
      "text/plain": [
       "<Figure size 432x288 with 1 Axes>"
      ]
     },
     "metadata": {
      "needs_background": "light"
     },
     "output_type": "display_data"
    }
   ],
   "source": [
    "# Most frequent drug used\n",
    "ax = sns.countplot(x=\"drug\", data=df_meds.groupby(['id','drug'], as_index=False).nunique())\n",
    "ax.set_title(\"Types of drug used\")\n",
    "ax.set_ylabel(\"Num of patients\")\n",
    "ax.tick_params(axis='x', rotation=90)"
   ]
  },
  {
   "cell_type": "code",
   "execution_count": 13,
   "id": "3748997c",
   "metadata": {},
   "outputs": [
    {
     "data": {
      "text/html": [
       "<div>\n",
       "<style scoped>\n",
       "    .dataframe tbody tr th:only-of-type {\n",
       "        vertical-align: middle;\n",
       "    }\n",
       "\n",
       "    .dataframe tbody tr th {\n",
       "        vertical-align: top;\n",
       "    }\n",
       "\n",
       "    .dataframe thead th {\n",
       "        text-align: right;\n",
       "    }\n",
       "</style>\n",
       "<table border=\"1\" class=\"dataframe\">\n",
       "  <thead>\n",
       "    <tr style=\"text-align: right;\">\n",
       "      <th></th>\n",
       "      <th>id</th>\n",
       "      <th>drug</th>\n",
       "      <th>daily_dosage</th>\n",
       "      <th>start_day</th>\n",
       "      <th>end_day</th>\n",
       "    </tr>\n",
       "  </thead>\n",
       "  <tbody>\n",
       "    <tr>\n",
       "      <th>0</th>\n",
       "      <td>0</td>\n",
       "      <td>atorvastatin</td>\n",
       "      <td>2</td>\n",
       "      <td>2</td>\n",
       "      <td>2</td>\n",
       "    </tr>\n",
       "    <tr>\n",
       "      <th>1</th>\n",
       "      <td>0</td>\n",
       "      <td>losartan</td>\n",
       "      <td>3</td>\n",
       "      <td>3</td>\n",
       "      <td>3</td>\n",
       "    </tr>\n",
       "    <tr>\n",
       "      <th>2</th>\n",
       "      <td>0</td>\n",
       "      <td>metformin</td>\n",
       "      <td>6</td>\n",
       "      <td>6</td>\n",
       "      <td>6</td>\n",
       "    </tr>\n",
       "    <tr>\n",
       "      <th>3</th>\n",
       "      <td>1</td>\n",
       "      <td>atorvastatin</td>\n",
       "      <td>4</td>\n",
       "      <td>4</td>\n",
       "      <td>4</td>\n",
       "    </tr>\n",
       "    <tr>\n",
       "      <th>4</th>\n",
       "      <td>2</td>\n",
       "      <td>rosuvastatin</td>\n",
       "      <td>2</td>\n",
       "      <td>2</td>\n",
       "      <td>2</td>\n",
       "    </tr>\n",
       "    <tr>\n",
       "      <th>...</th>\n",
       "      <td>...</td>\n",
       "      <td>...</td>\n",
       "      <td>...</td>\n",
       "      <td>...</td>\n",
       "      <td>...</td>\n",
       "    </tr>\n",
       "    <tr>\n",
       "      <th>606</th>\n",
       "      <td>297</td>\n",
       "      <td>valsartan</td>\n",
       "      <td>6</td>\n",
       "      <td>6</td>\n",
       "      <td>6</td>\n",
       "    </tr>\n",
       "    <tr>\n",
       "      <th>607</th>\n",
       "      <td>298</td>\n",
       "      <td>atorvastatin</td>\n",
       "      <td>2</td>\n",
       "      <td>2</td>\n",
       "      <td>2</td>\n",
       "    </tr>\n",
       "    <tr>\n",
       "      <th>608</th>\n",
       "      <td>298</td>\n",
       "      <td>metformin</td>\n",
       "      <td>2</td>\n",
       "      <td>2</td>\n",
       "      <td>2</td>\n",
       "    </tr>\n",
       "    <tr>\n",
       "      <th>609</th>\n",
       "      <td>299</td>\n",
       "      <td>atorvastatin</td>\n",
       "      <td>4</td>\n",
       "      <td>4</td>\n",
       "      <td>4</td>\n",
       "    </tr>\n",
       "    <tr>\n",
       "      <th>610</th>\n",
       "      <td>299</td>\n",
       "      <td>losartan</td>\n",
       "      <td>7</td>\n",
       "      <td>7</td>\n",
       "      <td>7</td>\n",
       "    </tr>\n",
       "  </tbody>\n",
       "</table>\n",
       "<p>611 rows × 5 columns</p>\n",
       "</div>"
      ],
      "text/plain": [
       "      id          drug  daily_dosage  start_day  end_day\n",
       "0      0  atorvastatin             2          2        2\n",
       "1      0      losartan             3          3        3\n",
       "2      0     metformin             6          6        6\n",
       "3      1  atorvastatin             4          4        4\n",
       "4      2  rosuvastatin             2          2        2\n",
       "..   ...           ...           ...        ...      ...\n",
       "606  297     valsartan             6          6        6\n",
       "607  298  atorvastatin             2          2        2\n",
       "608  298     metformin             2          2        2\n",
       "609  299  atorvastatin             4          4        4\n",
       "610  299      losartan             7          7        7\n",
       "\n",
       "[611 rows x 5 columns]"
      ]
     },
     "execution_count": 13,
     "metadata": {},
     "output_type": "execute_result"
    }
   ],
   "source": [
    "df_meds.groupby(['id','drug'], as_index=False).count()"
   ]
  },
  {
   "cell_type": "code",
   "execution_count": 14,
   "id": "48767e45",
   "metadata": {},
   "outputs": [
    {
     "data": {
      "text/html": [
       "<div>\n",
       "<style scoped>\n",
       "    .dataframe tbody tr th:only-of-type {\n",
       "        vertical-align: middle;\n",
       "    }\n",
       "\n",
       "    .dataframe tbody tr th {\n",
       "        vertical-align: top;\n",
       "    }\n",
       "\n",
       "    .dataframe thead th {\n",
       "        text-align: right;\n",
       "    }\n",
       "</style>\n",
       "<table border=\"1\" class=\"dataframe\">\n",
       "  <thead>\n",
       "    <tr style=\"text-align: right;\">\n",
       "      <th></th>\n",
       "      <th>id</th>\n",
       "      <th>drug</th>\n",
       "      <th>daily_dosage</th>\n",
       "      <th>start_day</th>\n",
       "      <th>end_day</th>\n",
       "      <th>Stage_Progress</th>\n",
       "    </tr>\n",
       "  </thead>\n",
       "  <tbody>\n",
       "    <tr>\n",
       "      <th>0</th>\n",
       "      <td>0</td>\n",
       "      <td>atorvastatin</td>\n",
       "      <td>1</td>\n",
       "      <td>2</td>\n",
       "      <td>2</td>\n",
       "      <td>True</td>\n",
       "    </tr>\n",
       "    <tr>\n",
       "      <th>1</th>\n",
       "      <td>0</td>\n",
       "      <td>losartan</td>\n",
       "      <td>1</td>\n",
       "      <td>3</td>\n",
       "      <td>3</td>\n",
       "      <td>True</td>\n",
       "    </tr>\n",
       "    <tr>\n",
       "      <th>2</th>\n",
       "      <td>0</td>\n",
       "      <td>metformin</td>\n",
       "      <td>1</td>\n",
       "      <td>6</td>\n",
       "      <td>6</td>\n",
       "      <td>True</td>\n",
       "    </tr>\n",
       "    <tr>\n",
       "      <th>3</th>\n",
       "      <td>1</td>\n",
       "      <td>atorvastatin</td>\n",
       "      <td>2</td>\n",
       "      <td>4</td>\n",
       "      <td>4</td>\n",
       "      <td>False</td>\n",
       "    </tr>\n",
       "    <tr>\n",
       "      <th>4</th>\n",
       "      <td>2</td>\n",
       "      <td>rosuvastatin</td>\n",
       "      <td>1</td>\n",
       "      <td>2</td>\n",
       "      <td>2</td>\n",
       "      <td>True</td>\n",
       "    </tr>\n",
       "  </tbody>\n",
       "</table>\n",
       "</div>"
      ],
      "text/plain": [
       "   id          drug  daily_dosage  start_day  end_day  Stage_Progress\n",
       "0   0  atorvastatin             1          2        2            True\n",
       "1   0      losartan             1          3        3            True\n",
       "2   0     metformin             1          6        6            True\n",
       "3   1  atorvastatin             2          4        4           False\n",
       "4   2  rosuvastatin             1          2        2            True"
      ]
     },
     "execution_count": 14,
     "metadata": {},
     "output_type": "execute_result"
    }
   ],
   "source": [
    "pd.merge(df_meds.groupby(['id','drug'], as_index=False).nunique(), df_stage, on=\"id\", how=\"left\").head()"
   ]
  },
  {
   "cell_type": "code",
   "execution_count": 19,
   "id": "c01de21d",
   "metadata": {},
   "outputs": [
    {
     "data": {
      "image/png": "[encoded data removed]",
      "text/plain": [
       "<Figure size 1080x720 with 1 Axes>"
      ]
     },
     "metadata": {},
     "output_type": "display_data"
    }
   ],
   "source": [
    "# Type of drug used in each target label\n",
    "plt.figure(figsize=(15,10))\n",
    "ax = sns.countplot(x=\"Stage_Progress\", \n",
    "                   hue=\"drug\", \n",
    "                   data=pd.merge(df_meds.groupby(['id','drug'], as_index=False).nunique(), df_stage, on=\"id\", how=\"left\"))\n",
    "ax.set_title(\"Most frequent drug used\")\n",
    "ax.set_ylabel(\"Num of patients\")\n",
    "#ax.tick_params(axis='x', rotation=90)\n",
    "plt.legend(loc='upper right')\n",
    "sns.set(font_scale=1)"
   ]
  },
  {
   "cell_type": "markdown",
   "id": "ee2ee40f",
   "metadata": {},
   "source": [
    "### 1c) Daily dosage"
   ]
  },
  {
   "cell_type": "code",
   "execution_count": 16,
   "id": "b21e69ba",
   "metadata": {
    "tags": []
   },
   "outputs": [
    {
     "data": {
      "image/png": "[encoded data removed]",
      "text/plain": [
       "<Figure size 432x288 with 1 Axes>"
      ]
     },
     "metadata": {},
     "output_type": "display_data"
    }
   ],
   "source": [
    "# distribution of drug dosage\r\n",
    "ax = sns.countplot(x=\"daily_dosage\", data=df_meds.groupby(['id','daily_dosage'], as_index=False).nunique())\r\n",
    "ax.set_title(\"Daily Dosage\")\r\n",
    "ax.set_ylabel(\"Num of patients\")\r\n",
    "ax.tick_params(axis='x', rotation=90)"
   ]
  },
  {
   "cell_type": "code",
   "execution_count": 17,
   "id": "2c8fa2cc",
   "metadata": {},
   "outputs": [
    {
     "data": {
      "text/html": [
       "<div>\n",
       "<style scoped>\n",
       "    .dataframe tbody tr th:only-of-type {\n",
       "        vertical-align: middle;\n",
       "    }\n",
       "\n",
       "    .dataframe tbody tr th {\n",
       "        vertical-align: top;\n",
       "    }\n",
       "\n",
       "    .dataframe thead th {\n",
       "        text-align: right;\n",
       "    }\n",
       "</style>\n",
       "<table border=\"1\" class=\"dataframe\">\n",
       "  <thead>\n",
       "    <tr style=\"text-align: right;\">\n",
       "      <th></th>\n",
       "      <th>id</th>\n",
       "      <th>daily_dosage</th>\n",
       "      <th>drug</th>\n",
       "      <th>start_day</th>\n",
       "      <th>end_day</th>\n",
       "      <th>Stage_Progress</th>\n",
       "    </tr>\n",
       "  </thead>\n",
       "  <tbody>\n",
       "    <tr>\n",
       "      <th>0</th>\n",
       "      <td>0</td>\n",
       "      <td>10.0</td>\n",
       "      <td>1</td>\n",
       "      <td>2</td>\n",
       "      <td>2</td>\n",
       "      <td>True</td>\n",
       "    </tr>\n",
       "    <tr>\n",
       "      <th>1</th>\n",
       "      <td>0</td>\n",
       "      <td>100.0</td>\n",
       "      <td>1</td>\n",
       "      <td>3</td>\n",
       "      <td>3</td>\n",
       "      <td>True</td>\n",
       "    </tr>\n",
       "    <tr>\n",
       "      <th>2</th>\n",
       "      <td>0</td>\n",
       "      <td>1000.0</td>\n",
       "      <td>1</td>\n",
       "      <td>6</td>\n",
       "      <td>6</td>\n",
       "      <td>True</td>\n",
       "    </tr>\n",
       "    <tr>\n",
       "      <th>3</th>\n",
       "      <td>1</td>\n",
       "      <td>20.0</td>\n",
       "      <td>1</td>\n",
       "      <td>2</td>\n",
       "      <td>2</td>\n",
       "      <td>False</td>\n",
       "    </tr>\n",
       "    <tr>\n",
       "      <th>4</th>\n",
       "      <td>1</td>\n",
       "      <td>40.0</td>\n",
       "      <td>1</td>\n",
       "      <td>2</td>\n",
       "      <td>2</td>\n",
       "      <td>False</td>\n",
       "    </tr>\n",
       "  </tbody>\n",
       "</table>\n",
       "</div>"
      ],
      "text/plain": [
       "   id  daily_dosage  drug  start_day  end_day  Stage_Progress\n",
       "0   0          10.0     1          2        2            True\n",
       "1   0         100.0     1          3        3            True\n",
       "2   0        1000.0     1          6        6            True\n",
       "3   1          20.0     1          2        2           False\n",
       "4   1          40.0     1          2        2           False"
      ]
     },
     "execution_count": 17,
     "metadata": {},
     "output_type": "execute_result"
    }
   ],
   "source": [
    "pd.merge(df_meds.groupby(['id','daily_dosage'], as_index=False).nunique(), df_stage, on=\"id\", how=\"left\").head()"
   ]
  },
  {
   "cell_type": "code",
   "execution_count": 18,
   "id": "8c76268f",
   "metadata": {},
   "outputs": [
    {
     "data": {
      "image/png": "[encoded data removed]",
      "text/plain": [
       "<Figure size 1440x576 with 1 Axes>"
      ]
     },
     "metadata": {},
     "output_type": "display_data"
    }
   ],
   "source": [
    "# distribution of drug dosage in each target label\r\n",
    "plt.figure(figsize=(20,8))\r\n",
    "ax = sns.countplot(x=\"Stage_Progress\", \r\n",
    "                   hue=\"daily_dosage\", \r\n",
    "                   data=pd.merge(df_meds.groupby(['id','daily_dosage'], as_index=False).nunique(), df_stage, on=\"id\", how=\"left\"))\r\n",
    "ax.set_title(\"Daily Dosage\")\r\n",
    "ax.set_ylabel(\"Num of patients\")\r\n",
    "# ax.tick_params(axis='x', rotation=90)\r\n",
    "plt.legend(loc='upper right')\r\n",
    "sns.set(font_scale=1)"
   ]
  },
  {
   "cell_type": "markdown",
   "id": "e0dba0ab",
   "metadata": {},
   "source": [
    "### 1d) Correlation btw number of drugs and age"
   ]
  },
  {
   "cell_type": "code",
   "execution_count": 20,
   "id": "9deb4474",
   "metadata": {},
   "outputs": [
    {
     "data": {
      "text/html": [
       "<div>\n",
       "<style scoped>\n",
       "    .dataframe tbody tr th:only-of-type {\n",
       "        vertical-align: middle;\n",
       "    }\n",
       "\n",
       "    .dataframe tbody tr th {\n",
       "        vertical-align: top;\n",
       "    }\n",
       "\n",
       "    .dataframe thead th {\n",
       "        text-align: right;\n",
       "    }\n",
       "</style>\n",
       "<table border=\"1\" class=\"dataframe\">\n",
       "  <thead>\n",
       "    <tr style=\"text-align: right;\">\n",
       "      <th></th>\n",
       "      <th>age</th>\n",
       "      <th>num_drug</th>\n",
       "    </tr>\n",
       "  </thead>\n",
       "  <tbody>\n",
       "    <tr>\n",
       "      <th>0</th>\n",
       "      <td>70</td>\n",
       "      <td>3.0</td>\n",
       "    </tr>\n",
       "    <tr>\n",
       "      <th>1</th>\n",
       "      <td>71</td>\n",
       "      <td>1.0</td>\n",
       "    </tr>\n",
       "    <tr>\n",
       "      <th>2</th>\n",
       "      <td>57</td>\n",
       "      <td>1.0</td>\n",
       "    </tr>\n",
       "    <tr>\n",
       "      <th>3</th>\n",
       "      <td>74</td>\n",
       "      <td>1.0</td>\n",
       "    </tr>\n",
       "    <tr>\n",
       "      <th>4</th>\n",
       "      <td>50</td>\n",
       "      <td>3.0</td>\n",
       "    </tr>\n",
       "  </tbody>\n",
       "</table>\n",
       "</div>"
      ],
      "text/plain": [
       "   age  num_drug\n",
       "0   70       3.0\n",
       "1   71       1.0\n",
       "2   57       1.0\n",
       "3   74       1.0\n",
       "4   50       3.0"
      ]
     },
     "execution_count": 20,
     "metadata": {},
     "output_type": "execute_result"
    }
   ],
   "source": [
    "# number of drugs & age\r\n",
    "df_demo = pd.read_csv('dataScienceTask/new_df.csv')\r\n",
    "df_num_unique = df_meds.groupby(['id']).nunique().copy()\r\n",
    "df_merge = pd.merge(df_demo, df_num_unique, on=\"id\", how=\"left\").copy() # use merge and not concat as T_meds have missing ids that do not take medicine\r\n",
    "df_num_drug_age = df_merge[['age','drug']].copy()\r\n",
    "df_num_drug_age.rename(columns = {'drug':'num_drug'}, inplace = True)\r\n",
    "df_num_drug_age.head()"
   ]
  },
  {
   "cell_type": "code",
   "execution_count": 21,
   "id": "341d5f87",
   "metadata": {},
   "outputs": [
    {
     "data": {
      "text/plain": [
       "<AxesSubplot:>"
      ]
     },
     "execution_count": 21,
     "metadata": {},
     "output_type": "execute_result"
    },
    {
     "data": {
      "image/png": "[encoded data removed]",
      "text/plain": [
       "<Figure size 432x288 with 2 Axes>"
      ]
     },
     "metadata": {},
     "output_type": "display_data"
    }
   ],
   "source": [
    "corr=df_num_drug_age.corr()\r\n",
    "# Draw the heatmap with the mask and correct aspect ratio\r\n",
    "cmap = sns.diverging_palette(230, 20, as_cmap=True)\r\n",
    "sns.heatmap(corr, cmap=cmap, vmax=1, center=0,\r\n",
    "            square=True, linewidths=.5, cbar_kws={\"shrink\": .5})"
   ]
  },
  {
   "cell_type": "markdown",
   "id": "cbaa2ba4",
   "metadata": {},
   "source": [
    "Weak correlation means it does not necessarily mean aging results in increase in number of drug intakes.\n",
    "Corerlation is to be further examined with health data later."
   ]
  },
  {
   "cell_type": "markdown",
   "id": "65214220",
   "metadata": {},
   "source": [
    "### 2) Transform to 1D signal for daily dosage"
   ]
  },
  {
   "cell_type": "code",
   "execution_count": 4,
   "id": "06c82a15",
   "metadata": {},
   "outputs": [
    {
     "data": {
      "text/html": [
       "<div>\n",
       "<style scoped>\n",
       "    .dataframe tbody tr th:only-of-type {\n",
       "        vertical-align: middle;\n",
       "    }\n",
       "\n",
       "    .dataframe tbody tr th {\n",
       "        vertical-align: top;\n",
       "    }\n",
       "\n",
       "    .dataframe thead th {\n",
       "        text-align: right;\n",
       "    }\n",
       "</style>\n",
       "<table border=\"1\" class=\"dataframe\">\n",
       "  <thead>\n",
       "    <tr style=\"text-align: right;\">\n",
       "      <th></th>\n",
       "      <th>id</th>\n",
       "      <th>drug</th>\n",
       "      <th>daily_dosage</th>\n",
       "      <th>start_day</th>\n",
       "      <th>end_day</th>\n",
       "    </tr>\n",
       "  </thead>\n",
       "  <tbody>\n",
       "    <tr>\n",
       "      <th>0</th>\n",
       "      <td>0</td>\n",
       "      <td>atorvastatin</td>\n",
       "      <td>10.0</td>\n",
       "      <td>19</td>\n",
       "      <td>109</td>\n",
       "    </tr>\n",
       "    <tr>\n",
       "      <th>1</th>\n",
       "      <td>0</td>\n",
       "      <td>atorvastatin</td>\n",
       "      <td>10.0</td>\n",
       "      <td>117</td>\n",
       "      <td>207</td>\n",
       "    </tr>\n",
       "    <tr>\n",
       "      <th>2</th>\n",
       "      <td>0</td>\n",
       "      <td>losartan</td>\n",
       "      <td>100.0</td>\n",
       "      <td>19</td>\n",
       "      <td>289</td>\n",
       "    </tr>\n",
       "    <tr>\n",
       "      <th>3</th>\n",
       "      <td>0</td>\n",
       "      <td>losartan</td>\n",
       "      <td>100.0</td>\n",
       "      <td>403</td>\n",
       "      <td>493</td>\n",
       "    </tr>\n",
       "    <tr>\n",
       "      <th>4</th>\n",
       "      <td>0</td>\n",
       "      <td>losartan</td>\n",
       "      <td>100.0</td>\n",
       "      <td>587</td>\n",
       "      <td>677</td>\n",
       "    </tr>\n",
       "  </tbody>\n",
       "</table>\n",
       "</div>"
      ],
      "text/plain": [
       "   id          drug  daily_dosage  start_day  end_day\n",
       "0   0  atorvastatin          10.0         19      109\n",
       "1   0  atorvastatin          10.0        117      207\n",
       "2   0      losartan         100.0         19      289\n",
       "3   0      losartan         100.0        403      493\n",
       "4   0      losartan         100.0        587      677"
      ]
     },
     "execution_count": 4,
     "metadata": {},
     "output_type": "execute_result"
    }
   ],
   "source": [
    "df_meds.head()"
   ]
  },
  {
   "cell_type": "code",
   "execution_count": 5,
   "id": "8c5b354e",
   "metadata": {},
   "outputs": [
    {
     "name": "stdout",
     "output_type": "stream",
     "text": [
      "max end day: 698\n"
     ]
    }
   ],
   "source": [
    "# find the max end day --> all 1D signals will end with max_end_day (ensure all signals are of equal length)\r\n",
    "max_end_day = df_meds['end_day'].max()\r\n",
    "print(f\"max end day: {max_end_day}\")\r\n",
    "# total num of days = 698+1 = 699"
   ]
  },
  {
   "cell_type": "code",
   "execution_count": 6,
   "id": "c2e65697",
   "metadata": {
    "tags": []
   },
   "outputs": [
    {
     "data": {
      "text/html": [
       "<div>\n",
       "<style scoped>\n",
       "    .dataframe tbody tr th:only-of-type {\n",
       "        vertical-align: middle;\n",
       "    }\n",
       "\n",
       "    .dataframe tbody tr th {\n",
       "        vertical-align: top;\n",
       "    }\n",
       "\n",
       "    .dataframe thead th {\n",
       "        text-align: right;\n",
       "    }\n",
       "</style>\n",
       "<table border=\"1\" class=\"dataframe\">\n",
       "  <thead>\n",
       "    <tr style=\"text-align: right;\">\n",
       "      <th></th>\n",
       "      <th>id</th>\n",
       "      <th>drug</th>\n",
       "      <th>daily_dosage</th>\n",
       "      <th>start_day</th>\n",
       "      <th>end_day</th>\n",
       "    </tr>\n",
       "  </thead>\n",
       "  <tbody>\n",
       "    <tr>\n",
       "      <th>0</th>\n",
       "      <td>0</td>\n",
       "      <td>[atorvastatin, losartan, metformin]</td>\n",
       "      <td>[[10.0, 10.0], [100.0, 100.0, 100.0], [1000.0,...</td>\n",
       "      <td>[[19, 117], [19, 403, 587], [19, 131, 309, 312...</td>\n",
       "      <td>[[109, 207], [289, 493, 677], [109, 281, 399, ...</td>\n",
       "    </tr>\n",
       "    <tr>\n",
       "      <th>1</th>\n",
       "      <td>1</td>\n",
       "      <td>[atorvastatin]</td>\n",
       "      <td>[[20.0, 20.0, 40.0, 40.0]]</td>\n",
       "      <td>[[43, 96, 295, 394]]</td>\n",
       "      <td>[[133, 126, 385, 484]]</td>\n",
       "    </tr>\n",
       "    <tr>\n",
       "      <th>2</th>\n",
       "      <td>2</td>\n",
       "      <td>[rosuvastatin]</td>\n",
       "      <td>[[10.0, 10.0]]</td>\n",
       "      <td>[[213, 577]]</td>\n",
       "      <td>[[303, 667]]</td>\n",
       "    </tr>\n",
       "    <tr>\n",
       "      <th>3</th>\n",
       "      <td>3</td>\n",
       "      <td>[atorvastatin]</td>\n",
       "      <td>[[10.0, 10.0, 10.0, 10.0]]</td>\n",
       "      <td>[[187, 334, 481, 560]]</td>\n",
       "      <td>[[277, 424, 571, 650]]</td>\n",
       "    </tr>\n",
       "    <tr>\n",
       "      <th>4</th>\n",
       "      <td>4</td>\n",
       "      <td>[losartan, metformin, pravastatin]</td>\n",
       "      <td>[[100.0, 100.0, 100.0, 100.0], [850.0, 850.0, ...</td>\n",
       "      <td>[[19, 22, 270, 394], [31, 157, 351, 448, 457, ...</td>\n",
       "      <td>[[109, 112, 360, 484], [121, 247, 441, 538, 54...</td>\n",
       "    </tr>\n",
       "  </tbody>\n",
       "</table>\n",
       "</div>"
      ],
      "text/plain": [
       "   id                                 drug  \\\n",
       "0   0  [atorvastatin, losartan, metformin]   \n",
       "1   1                       [atorvastatin]   \n",
       "2   2                       [rosuvastatin]   \n",
       "3   3                       [atorvastatin]   \n",
       "4   4   [losartan, metformin, pravastatin]   \n",
       "\n",
       "                                        daily_dosage  \\\n",
       "0  [[10.0, 10.0], [100.0, 100.0, 100.0], [1000.0,...   \n",
       "1                         [[20.0, 20.0, 40.0, 40.0]]   \n",
       "2                                     [[10.0, 10.0]]   \n",
       "3                         [[10.0, 10.0, 10.0, 10.0]]   \n",
       "4  [[100.0, 100.0, 100.0, 100.0], [850.0, 850.0, ...   \n",
       "\n",
       "                                           start_day  \\\n",
       "0  [[19, 117], [19, 403, 587], [19, 131, 309, 312...   \n",
       "1                               [[43, 96, 295, 394]]   \n",
       "2                                       [[213, 577]]   \n",
       "3                             [[187, 334, 481, 560]]   \n",
       "4  [[19, 22, 270, 394], [31, 157, 351, 448, 457, ...   \n",
       "\n",
       "                                             end_day  \n",
       "0  [[109, 207], [289, 493, 677], [109, 281, 399, ...  \n",
       "1                             [[133, 126, 385, 484]]  \n",
       "2                                       [[303, 667]]  \n",
       "3                             [[277, 424, 571, 650]]  \n",
       "4  [[109, 112, 360, 484], [121, 247, 441, 538, 54...  "
      ]
     },
     "execution_count": 6,
     "metadata": {},
     "output_type": "execute_result"
    }
   ],
   "source": [
    "# combining rows of same id by aggregating in a list\r\n",
    "df_agg = df_meds.groupby(['id','drug'], as_index=False)[['daily_dosage','start_day','end_day']].agg(list)\r\n",
    "df_aggnew = df_agg.groupby(['id'], as_index=False)[['drug','daily_dosage','start_day','end_day']].agg(list)\r\n",
    "df_aggnew.head()"
   ]
  },
  {
   "cell_type": "code",
   "execution_count": 7,
   "id": "56f55c25-2e0d-491e-b7b9-c20c99d40aa5",
   "metadata": {},
   "outputs": [
    {
     "data": {
      "text/html": [
       "<div>\n",
       "<style scoped>\n",
       "    .dataframe tbody tr th:only-of-type {\n",
       "        vertical-align: middle;\n",
       "    }\n",
       "\n",
       "    .dataframe tbody tr th {\n",
       "        vertical-align: top;\n",
       "    }\n",
       "\n",
       "    .dataframe thead th {\n",
       "        text-align: right;\n",
       "    }\n",
       "</style>\n",
       "<table border=\"1\" class=\"dataframe\">\n",
       "  <thead>\n",
       "    <tr style=\"text-align: right;\">\n",
       "      <th></th>\n",
       "      <th>id</th>\n",
       "      <th>drug</th>\n",
       "      <th>daily_dosage</th>\n",
       "      <th>start_day</th>\n",
       "      <th>end_day</th>\n",
       "    </tr>\n",
       "  </thead>\n",
       "  <tbody>\n",
       "    <tr>\n",
       "      <th>267</th>\n",
       "      <td>294</td>\n",
       "      <td>[atenolol, atorvastatin, losartan]</td>\n",
       "      <td>[[25.0, 25.0, 25.0], [40.0, 40.0, 40.0, 40.0],...</td>\n",
       "      <td>[[10, 261, 402], [10, 52, 405, 580], [10, 192,...</td>\n",
       "      <td>[[100, 351, 492], [100, 142, 495, 670], [100, ...</td>\n",
       "    </tr>\n",
       "    <tr>\n",
       "      <th>268</th>\n",
       "      <td>296</td>\n",
       "      <td>[atorvastatin, metformin]</td>\n",
       "      <td>[[40.0, 40.0], [2000.0, 2000.0, 2000.0]]</td>\n",
       "      <td>[[262, 599], [0, 392, 522]]</td>\n",
       "      <td>[[352, 689], [30, 422, 552]]</td>\n",
       "    </tr>\n",
       "    <tr>\n",
       "      <th>269</th>\n",
       "      <td>297</td>\n",
       "      <td>[irbesartan, metformin, metoprolol, pitavastat...</td>\n",
       "      <td>[[300.0], [1000.0], [100.0, 50.0, 100.0], [2.0...</td>\n",
       "      <td>[[11], [11], [228, 315, 315], [691], [7, 11, 8...</td>\n",
       "      <td>[[101], [71], [318, 405, 405], [694], [97, 56,...</td>\n",
       "    </tr>\n",
       "    <tr>\n",
       "      <th>270</th>\n",
       "      <td>298</td>\n",
       "      <td>[atorvastatin, metformin]</td>\n",
       "      <td>[[20.0, 20.0], [1000.0, 1000.0]]</td>\n",
       "      <td>[[309, 329], [309, 557]]</td>\n",
       "      <td>[[399, 419], [399, 647]]</td>\n",
       "    </tr>\n",
       "    <tr>\n",
       "      <th>271</th>\n",
       "      <td>299</td>\n",
       "      <td>[atorvastatin, losartan]</td>\n",
       "      <td>[[10.0, 10.0, 10.0, 10.0], [100.0, 100.0, 100....</td>\n",
       "      <td>[[117, 507, 529, 578], [131, 143, 144, 461, 49...</td>\n",
       "      <td>[[147, 537, 559, 608], [161, 173, 174, 491, 52...</td>\n",
       "    </tr>\n",
       "  </tbody>\n",
       "</table>\n",
       "</div>"
      ],
      "text/plain": [
       "      id                                               drug  \\\n",
       "267  294                 [atenolol, atorvastatin, losartan]   \n",
       "268  296                          [atorvastatin, metformin]   \n",
       "269  297  [irbesartan, metformin, metoprolol, pitavastat...   \n",
       "270  298                          [atorvastatin, metformin]   \n",
       "271  299                           [atorvastatin, losartan]   \n",
       "\n",
       "                                          daily_dosage  \\\n",
       "267  [[25.0, 25.0, 25.0], [40.0, 40.0, 40.0, 40.0],...   \n",
       "268           [[40.0, 40.0], [2000.0, 2000.0, 2000.0]]   \n",
       "269  [[300.0], [1000.0], [100.0, 50.0, 100.0], [2.0...   \n",
       "270                   [[20.0, 20.0], [1000.0, 1000.0]]   \n",
       "271  [[10.0, 10.0, 10.0, 10.0], [100.0, 100.0, 100....   \n",
       "\n",
       "                                             start_day  \\\n",
       "267  [[10, 261, 402], [10, 52, 405, 580], [10, 192,...   \n",
       "268                        [[262, 599], [0, 392, 522]]   \n",
       "269  [[11], [11], [228, 315, 315], [691], [7, 11, 8...   \n",
       "270                           [[309, 329], [309, 557]]   \n",
       "271  [[117, 507, 529, 578], [131, 143, 144, 461, 49...   \n",
       "\n",
       "                                               end_day  \n",
       "267  [[100, 351, 492], [100, 142, 495, 670], [100, ...  \n",
       "268                       [[352, 689], [30, 422, 552]]  \n",
       "269  [[101], [71], [318, 405, 405], [694], [97, 56,...  \n",
       "270                           [[399, 419], [399, 647]]  \n",
       "271  [[147, 537, 559, 608], [161, 173, 174, 491, 52...  "
      ]
     },
     "execution_count": 7,
     "metadata": {},
     "output_type": "execute_result"
    }
   ],
   "source": [
    "df_aggnew.tail()"
   ]
  },
  {
   "cell_type": "code",
   "execution_count": 9,
   "id": "bfe87cc0",
   "metadata": {},
   "outputs": [
    {
     "data": {
      "text/plain": [
       "['metformin',\n",
       " 'atorvastatin',\n",
       " 'simvastatin',\n",
       " 'losartan',\n",
       " 'metoprolol',\n",
       " 'rosuvastatin']"
      ]
     },
     "execution_count": 9,
     "metadata": {},
     "output_type": "execute_result"
    }
   ],
   "source": [
    "# Remove drug if no. of patients is less than 10% of the sample size.\r\n",
    "df_temp_1 = df_meds.groupby(['id','drug'], as_index=False).nunique()\r\n",
    "drug_freq_series = df_temp_1['drug'].value_counts()\r\n",
    "drug_freq_df = pd.DataFrame(drug_freq_series)\r\n",
    "drug_freq_df = drug_freq_df[drug_freq_df['drug'] > 30] # only include if more than 10% of sample size\r\n",
    "red_drug_list = drug_freq_df['drug'].keys().tolist()\r\n",
    "red_drug_list"
   ]
  },
  {
   "cell_type": "code",
   "execution_count": 11,
   "id": "748f3dc3-d7bd-4011-8b4d-40d536fb9af9",
   "metadata": {},
   "outputs": [],
   "source": [
    "def generate_all_waves(df_aggnew, red_drug_list, max_end_day, max_patient_id = 299):\n",
    "    \"\"\"\n",
    "    To generate 1D wave of dosage intake over 700 days for all selected drugs\n",
    "    -generates waves with 0s when drug is absent\n",
    "    -includes patients who do not take drugs\n",
    "    \n",
    "    Input:\n",
    "        1) df_aggnew: Dataframe\n",
    "            Modified datatframe containing lists of lists regarding drug type, dosage levels for \n",
    "            each drug type and the corresponding start and end days.\n",
    "        2) red_drug_list: List\n",
    "            List of drugs with frequency more thab 10% of sample size.\n",
    "        3) max_end_day: int\n",
    "            Maximum end of day for dosage taken (have to be less than 700).\n",
    "        4) max_patient_id: int\n",
    "            Maximum value of patient id.\n",
    "    Output:\n",
    "        out: List\n",
    "            List of lists containing patient id, drug name and the 1D wave.\n",
    "            Format: [patient_id, drug name, 1D wave]\n",
    "    \"\"\"\n",
    "    out = []\n",
    "    df_aggnew_np = df_aggnew.to_numpy()\n",
    "    count = 0 # tracker to track absence of patients not taking drugs\n",
    "    \n",
    "    for i in range(max_patient_id+1): # for each patient id\n",
    "            \n",
    "        if i == df_aggnew_np[count][0]: # if incremental patient id matches the current index of patrient id -> patient takes meds\n",
    "            for drug in red_drug_list: # should only include selected drugs\n",
    "                collect = []\n",
    "                collect.append(i)# collect patient id\n",
    "                collect.append(drug) # collect the drug\n",
    "                wave = [0]*(max_end_day+1) # init wave with all zeros\n",
    "                dosage_list = df_aggnew_np[count][2]\n",
    "                start_day_list = df_aggnew_np[count][3]\n",
    "                end_day_list = df_aggnew_np[count][4]\n",
    "\n",
    "                if drug in df_aggnew_np[count][1]: # if drug is taken by current patient_id\n",
    "                    ix_drug = df_aggnew_np[count][1].index(drug)\n",
    "\n",
    "                    for n in range(len(dosage_list[ix_drug])): # for each dosage level\n",
    "                        for ix in range(start_day_list[ix_drug][n]+1, end_day_list[ix_drug][n]+2): \n",
    "                            wave[ix] = dosage_list[ix_drug][n]\n",
    "                            \n",
    "                    collect.extend(wave) # collect wave for current drug\n",
    "                else:\n",
    "                    collect.extend(wave) # collect wave for current drug\n",
    "                out.append(collect) # collect for each drug in list\n",
    "            count+=1 # only increment count tracker if drug is taken by current patient_id\n",
    "                \n",
    "        else: # if patient does not take meds\n",
    "            for drug in red_drug_list: # should only include selected drugs\n",
    "                collect = []\n",
    "                collect.append(i)# collect patient id\n",
    "                collect.append(drug) # collect the drug\n",
    "                wave = [0]*(max_end_day+1) # init wave with all zeros\n",
    "                collect.extend(wave) # collect wave for current drug\n",
    "                out.append(collect) # collect for each drug in list\n",
    "            \n",
    "    return out\n",
    "                \n"
   ]
  },
  {
   "cell_type": "code",
   "execution_count": 10,
   "id": "2787bc57-cb2d-4347-a608-59990a2b45e9",
   "metadata": {},
   "outputs": [
    {
     "name": "stdout",
     "output_type": "stream",
     "text": [
      "1800\n",
      "702\n"
     ]
    }
   ],
   "source": [
    "from utils import generate_all_waves\n",
    "out = generate_all_waves(df_aggnew, red_drug_list, max_end_day=699, max_patient_id = 299)\n",
    "print(len(out))\n",
    "print(len(out[0]))"
   ]
  },
  {
   "cell_type": "code",
   "execution_count": 11,
   "id": "3871ff6e-95b9-4b86-8073-56f02653026a",
   "metadata": {},
   "outputs": [
    {
     "name": "stdout",
     "output_type": "stream",
     "text": [
      "Patient: 0\n",
      "Drug: losartan\n"
     ]
    },
    {
     "data": {
      "text/plain": [
       "[<matplotlib.lines.Line2D at 0x2162c4ee748>]"
      ]
     },
     "execution_count": 11,
     "metadata": {},
     "output_type": "execute_result"
    },
    {
     "data": {
      "image/png": "[encoded data removed]",
      "text/plain": [
       "<Figure size 432x288 with 1 Axes>"
      ]
     },
     "metadata": {
      "needs_background": "light"
     },
     "output_type": "display_data"
    }
   ],
   "source": [
    "# Sample\n",
    "p=3\n",
    "print(f\"Patient: {out[p][0]}\")\n",
    "print(f\"Drug: {out[p][1]}\")\n",
    "plt.plot(np.arange(700),out[p][2:])\n",
    "# plt.set_title(\"Daily Dosage\")\n",
    "# plt.set_ylabel(\"Num of patients\")\n",
    "# days start from 0"
   ]
  },
  {
   "cell_type": "code",
   "execution_count": 12,
   "id": "d7968ab0",
   "metadata": {},
   "outputs": [
    {
     "name": "stdout",
     "output_type": "stream",
     "text": [
      "Patient: 0\n",
      "Drug: atorvastatin\n"
     ]
    },
    {
     "data": {
      "text/plain": [
       "[<matplotlib.lines.Line2D at 0x2162d5ccc88>]"
      ]
     },
     "execution_count": 12,
     "metadata": {},
     "output_type": "execute_result"
    },
    {
     "data": {
      "image/png": "[encoded data removed]",
      "text/plain": [
       "<Figure size 432x288 with 1 Axes>"
      ]
     },
     "metadata": {
      "needs_background": "light"
     },
     "output_type": "display_data"
    }
   ],
   "source": [
    "# Sample\r\n",
    "print(f\"Patient: {out[1][0]}\")\r\n",
    "print(f\"Drug: {out[1][1]}\")\r\n",
    "plt.plot(np.arange(700),out[1][2:])\r\n",
    "# plt.set_title(\"Daily Dosage\")\r\n",
    "# plt.set_ylabel(\"Num of patients\")"
   ]
  },
  {
   "cell_type": "code",
   "execution_count": 13,
   "id": "02a9aae9-2574-408a-8a04-b35f59c50afb",
   "metadata": {},
   "outputs": [
    {
     "name": "stdout",
     "output_type": "stream",
     "text": [
      "Patient: 49\n",
      "Drug: rosuvastatin\n"
     ]
    },
    {
     "data": {
      "text/plain": [
       "[<matplotlib.lines.Line2D at 0x2162d65a8c8>]"
      ]
     },
     "execution_count": 13,
     "metadata": {},
     "output_type": "execute_result"
    },
    {
     "data": {
      "image/png": "[encoded data removed]",
      "text/plain": [
       "<Figure size 432x288 with 1 Axes>"
      ]
     },
     "metadata": {
      "needs_background": "light"
     },
     "output_type": "display_data"
    }
   ],
   "source": [
    "# Sample\n",
    "i=299\n",
    "print(f\"Patient: {out[i][0]}\")\n",
    "print(f\"Drug: {out[i][1]}\")\n",
    "plt.plot(np.arange(700),out[i][2:])\n",
    "# plt.set_title(\"Daily Dosage\")\n",
    "# plt.set_ylabel(\"Num of patients\")"
   ]
  },
  {
   "cell_type": "code",
   "execution_count": 14,
   "id": "e11f07af-45b5-4b2c-8a73-b4a1f3402573",
   "metadata": {},
   "outputs": [
    {
     "name": "stdout",
     "output_type": "stream",
     "text": [
      "Patient: 299\n",
      "Drug: atorvastatin\n"
     ]
    },
    {
     "data": {
      "text/plain": [
       "[<matplotlib.lines.Line2D at 0x2162d6eb3c8>]"
      ]
     },
     "execution_count": 14,
     "metadata": {},
     "output_type": "execute_result"
    },
    {
     "data": {
      "image/png": "[encoded data removed]",
      "text/plain": [
       "<Figure size 432x288 with 1 Axes>"
      ]
     },
     "metadata": {
      "needs_background": "light"
     },
     "output_type": "display_data"
    }
   ],
   "source": [
    "# Sample\n",
    "i=1795\n",
    "print(f\"Patient: {out[i][0]}\")\n",
    "print(f\"Drug: {out[i][1]}\")\n",
    "plt.plot(np.arange(700),out[i][2:])\n",
    "# plt.set_title(\"Daily Dosage\")\n",
    "# plt.set_ylabel(\"Num of patients\")"
   ]
  },
  {
   "cell_type": "code",
   "execution_count": 26,
   "id": "afec5083-17e6-482d-9620-da7fb376eefd",
   "metadata": {},
   "outputs": [],
   "source": [
    "#df_out = pd.DataFrame(out)\n",
    "#df_out.to_csv('waves_meds.csv')\n",
    "\n",
    "import csv\n",
    "with open('waves_meds.csv', \"w\") as file:\n",
    "    writer = csv.writer(file)\n",
    "    writer.writerows(out)\n",
    "file.close()"
   ]
  },
  {
   "cell_type": "code",
   "execution_count": 27,
   "id": "fe56fe51-fc1a-4674-bc4a-fa706b6a989c",
   "metadata": {},
   "outputs": [
    {
     "data": {
      "text/plain": [
       "(1799, 702)"
      ]
     },
     "execution_count": 27,
     "metadata": {},
     "output_type": "execute_result"
    }
   ],
   "source": [
    "data=pd.read_csv('waves_meds.csv')\n",
    "data.shape"
   ]
  },
  {
   "cell_type": "markdown",
   "id": "85c4e119",
   "metadata": {},
   "source": [
    "### Healthy Patients Missing!"
   ]
  },
  {
   "cell_type": "code",
   "execution_count": 17,
   "id": "dd7c2ccd",
   "metadata": {},
   "outputs": [
    {
     "name": "stdout",
     "output_type": "stream",
     "text": [
      "Total num of patients: 300\n",
      "Num of patients with meds: 272\n",
      "Num of patients with no meds: 28\n"
     ]
    }
   ],
   "source": [
    "# Find healthy patients missing from this dataframe\r\n",
    "patients_meds_set = set()\r\n",
    "patients_meds_set.update(df_meds['id'].unique())\r\n",
    "\r\n",
    "patients_all = set(np.arange(0,300))\r\n",
    "\r\n",
    "patients_no_meds_set = patients_all.difference(patients_meds_set)\r\n",
    "\r\n",
    "print(f\"Total num of patients: {len(patients_all)}\")\r\n",
    "print(f\"Num of patients with meds: {len(patients_meds_set)}\")\r\n",
    "print(f\"Num of patients with no meds: {len(patients_no_meds_set)}\")"
   ]
  },
  {
   "cell_type": "code",
   "execution_count": null,
   "id": "feb78297",
   "metadata": {},
   "outputs": [],
   "source": []
  },
  {
   "cell_type": "code",
   "execution_count": null,
   "id": "c64dd820",
   "metadata": {},
   "outputs": [],
   "source": []
  },
  {
   "cell_type": "code",
   "execution_count": null,
   "id": "05cf9e09",
   "metadata": {},
   "outputs": [],
   "source": []
  }
 ],
 "metadata": {
  "kernelspec": {
   "display_name": "TFFedJupyter",
   "language": "python",
   "name": "tffedjupyter"
  },
  "language_info": {
   "codemirror_mode": {
    "name": "ipython",
    "version": 3
   },
   "file_extension": ".py",
   "mimetype": "text/x-python",
   "name": "python",
   "nbconvert_exporter": "python",
   "pygments_lexer": "ipython3",
   "version": "3.7.8"
  }
 },
 "nbformat": 4,
 "nbformat_minor": 5
}
