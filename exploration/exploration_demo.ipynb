{
 "cells": [
  {
   "cell_type": "code",
   "execution_count": 1,
   "id": "267f71be-c897-47a8-999f-e3f27d836b5c",
   "metadata": {},
   "outputs": [],
   "source": [
    "import pandas as pd\n",
    "import numpy as np\n",
    "import seaborn as sns\n",
    "import matplotlib\n",
    "from matplotlib import cm\n",
    "import matplotlib.pyplot as plt\n",
    "import klib\n",
    "%matplotlib inline\n",
    "\n",
    "src = 'dataScienceTask/T_demo.csv'\n",
    "dest = 'saved_plots/demo/'"
   ]
  },
  {
   "cell_type": "code",
   "execution_count": 12,
   "id": "6c77df50-3441-4f31-9637-d3d6b76dc64e",
   "metadata": {},
   "outputs": [
    {
     "data": {
      "text/html": [
       "<div>\n",
       "<style scoped>\n",
       "    .dataframe tbody tr th:only-of-type {\n",
       "        vertical-align: middle;\n",
       "    }\n",
       "\n",
       "    .dataframe tbody tr th {\n",
       "        vertical-align: top;\n",
       "    }\n",
       "\n",
       "    .dataframe thead th {\n",
       "        text-align: right;\n",
       "    }\n",
       "</style>\n",
       "<table border=\"1\" class=\"dataframe\">\n",
       "  <thead>\n",
       "    <tr style=\"text-align: right;\">\n",
       "      <th></th>\n",
       "      <th>id</th>\n",
       "      <th>race</th>\n",
       "      <th>gender</th>\n",
       "      <th>age</th>\n",
       "    </tr>\n",
       "  </thead>\n",
       "  <tbody>\n",
       "    <tr>\n",
       "      <th>0</th>\n",
       "      <td>0</td>\n",
       "      <td>Unknown</td>\n",
       "      <td>Male</td>\n",
       "      <td>70</td>\n",
       "    </tr>\n",
       "    <tr>\n",
       "      <th>1</th>\n",
       "      <td>1</td>\n",
       "      <td>White</td>\n",
       "      <td>Female</td>\n",
       "      <td>71</td>\n",
       "    </tr>\n",
       "    <tr>\n",
       "      <th>2</th>\n",
       "      <td>2</td>\n",
       "      <td>White</td>\n",
       "      <td>Female</td>\n",
       "      <td>57</td>\n",
       "    </tr>\n",
       "    <tr>\n",
       "      <th>3</th>\n",
       "      <td>3</td>\n",
       "      <td>White</td>\n",
       "      <td>Male</td>\n",
       "      <td>74</td>\n",
       "    </tr>\n",
       "    <tr>\n",
       "      <th>4</th>\n",
       "      <td>4</td>\n",
       "      <td>White</td>\n",
       "      <td>Female</td>\n",
       "      <td>50</td>\n",
       "    </tr>\n",
       "  </tbody>\n",
       "</table>\n",
       "</div>"
      ],
      "text/plain": [
       "   id     race  gender  age\n",
       "0   0  Unknown    Male   70\n",
       "1   1    White  Female   71\n",
       "2   2    White  Female   57\n",
       "3   3    White    Male   74\n",
       "4   4    White  Female   50"
      ]
     },
     "execution_count": 12,
     "metadata": {},
     "output_type": "execute_result"
    }
   ],
   "source": [
    "# read csv\n",
    "df = pd.read_csv(src)\n",
    "df.head()"
   ]
  },
  {
   "cell_type": "code",
   "execution_count": 13,
   "id": "76b5e52d-b200-42a4-aa04-08026ac9e56c",
   "metadata": {},
   "outputs": [
    {
     "data": {
      "text/plain": [
       "Text(0.5, 1.0, 'Gender count')"
      ]
     },
     "execution_count": 13,
     "metadata": {},
     "output_type": "execute_result"
    },
    {
     "data": {
      "image/png": "[encoded data removed]",
      "text/plain": [
       "<Figure size 432x288 with 1 Axes>"
      ]
     },
     "metadata": {
      "needs_background": "light"
     },
     "output_type": "display_data"
    }
   ],
   "source": [
    "# distribution over gender\n",
    "ax = sns.countplot(x=\"gender\", data=df)\n",
    "ax.set_title(\"Gender count\")"
   ]
  },
  {
   "cell_type": "markdown",
   "id": "23a2746f-2bfd-4eeb-90e2-622acfd609ba",
   "metadata": {},
   "source": [
    "- not equal distribution but also not too bad\n",
    "- to check on this perhaps in future versions of prototype"
   ]
  },
  {
   "cell_type": "code",
   "execution_count": 14,
   "id": "7be2bfb5-8c11-492d-8cac-6112c4070262",
   "metadata": {},
   "outputs": [
    {
     "data": {
      "text/plain": [
       "Text(0.5, 1.0, 'Race count')"
      ]
     },
     "execution_count": 14,
     "metadata": {},
     "output_type": "execute_result"
    },
    {
     "data": {
      "image/png": "[encoded data removed]",
      "text/plain": [
       "<Figure size 432x288 with 1 Axes>"
      ]
     },
     "metadata": {
      "needs_background": "light"
     },
     "output_type": "display_data"
    }
   ],
   "source": [
    "# distribution over race\n",
    "ax = sns.countplot(x=\"race\", data=df)\n",
    "ax.set_title(\"Race count\")"
   ]
  },
  {
   "cell_type": "markdown",
   "id": "9b7c01c4-dbdd-4c1e-b74a-dd807f8fa622",
   "metadata": {},
   "source": [
    "- imbalance, more focus on White -> White represents data\n",
    "- to look at this later after merging"
   ]
  },
  {
   "cell_type": "code",
   "execution_count": 15,
   "id": "3fd4c1db-6708-4012-b39b-f24c47b94dea",
   "metadata": {},
   "outputs": [
    {
     "data": {
      "text/plain": [
       "Text(0.5, 1.0, 'Race count')"
      ]
     },
     "execution_count": 15,
     "metadata": {},
     "output_type": "execute_result"
    },
    {
     "data": {
      "image/png": "[encoded data removed]",
      "text/plain": [
       "<Figure size 432x288 with 1 Axes>"
      ]
     },
     "metadata": {
      "needs_background": "light"
     },
     "output_type": "display_data"
    }
   ],
   "source": [
    "# distribution over race\n",
    "ax = sns.countplot(x=\"race\", hue=\"gender\", data=df)\n",
    "ax.set_title(\"Race count\")"
   ]
  },
  {
   "cell_type": "markdown",
   "id": "6aeb8ffd-7e92-4945-8cee-56a9d635f28c",
   "metadata": {},
   "source": [
    "- similar distrubution across (difference possibly not so significant)"
   ]
  },
  {
   "cell_type": "code",
   "execution_count": 16,
   "id": "3bb99ad4-3b61-4fb6-8c03-b49370ed5de9",
   "metadata": {},
   "outputs": [
    {
     "data": {
      "text/plain": [
       "Text(0.5, 1.0, 'Age distribution')"
      ]
     },
     "execution_count": 16,
     "metadata": {},
     "output_type": "execute_result"
    },
    {
     "data": {
      "image/png": "[encoded data removed]",
      "text/plain": [
       "<Figure size 432x288 with 1 Axes>"
      ]
     },
     "metadata": {
      "needs_background": "light"
     },
     "output_type": "display_data"
    }
   ],
   "source": [
    "# distribution across age\n",
    "ax=sns.histplot(data=df, x=\"age\")\n",
    "ax.set_title(\"Age distribution\")"
   ]
  },
  {
   "cell_type": "markdown",
   "id": "2767599c-83db-4e78-8776-bce210e77c1b",
   "metadata": {},
   "source": [
    "- marjoity at older age groups\n",
    "- left skewed distribution"
   ]
  },
  {
   "cell_type": "code",
   "execution_count": 17,
   "id": "fa764471-0adf-4a19-a486-d1516e6e4967",
   "metadata": {},
   "outputs": [
    {
     "data": {
      "text/plain": [
       "Text(0.5, 1.0, 'Transformed Age distribution')"
      ]
     },
     "execution_count": 17,
     "metadata": {},
     "output_type": "execute_result"
    },
    {
     "data": {
      "image/png": "[encoded data removed]",
      "text/plain": [
       "<Figure size 432x288 with 1 Axes>"
      ]
     },
     "metadata": {
      "needs_background": "light"
     },
     "output_type": "display_data"
    }
   ],
   "source": [
    "# cubic of age to transform to normal distribution\n",
    "df['new_age'] = df['age'].apply(lambda x: x**3/100000)\n",
    "ax=sns.histplot(data=df, x=\"new_age\")\n",
    "ax.set_title(\"Transformed Age distribution\")"
   ]
  },
  {
   "cell_type": "code",
   "execution_count": 18,
   "id": "cb21124f-5b7e-487b-90c4-0815792bbaa6",
   "metadata": {},
   "outputs": [
    {
     "data": {
      "text/plain": [
       "<seaborn.axisgrid.FacetGrid at 0x12d86737dc8>"
      ]
     },
     "execution_count": 18,
     "metadata": {},
     "output_type": "execute_result"
    },
    {
     "data": {
      "image/png": "[encoded data removed]",
      "text/plain": [
       "<Figure size 388.8x388.8 with 2 Axes>"
      ]
     },
     "metadata": {
      "needs_background": "light"
     },
     "output_type": "display_data"
    }
   ],
   "source": [
    "ordered_gender = df.gender.value_counts().index\n",
    "g = sns.FacetGrid(df, row=\"gender\", row_order=ordered_gender,\n",
    "                  height=2.7, aspect=2,)\n",
    "g.map(sns.histplot, \"age\")\n"
   ]
  },
  {
   "cell_type": "markdown",
   "id": "ebbf0ec6-b494-43a1-bcc8-4a93011b26e9",
   "metadata": {},
   "source": [
    "- distrubutions of gender across age are similar"
   ]
  },
  {
   "cell_type": "code",
   "execution_count": 19,
   "id": "72d5108f-745b-4be4-93dd-1cc193872641",
   "metadata": {},
   "outputs": [
    {
     "data": {
      "text/plain": [
       "<seaborn.axisgrid.FacetGrid at 0x12d87834448>"
      ]
     },
     "execution_count": 19,
     "metadata": {},
     "output_type": "execute_result"
    },
    {
     "data": {
      "image/png": "[encoded data removed]",
      "text/plain": [
       "<Figure size 388.8x972 with 5 Axes>"
      ]
     },
     "metadata": {
      "needs_background": "light"
     },
     "output_type": "display_data"
    }
   ],
   "source": [
    "ordered_race = df.race.value_counts().index\n",
    "g = sns.FacetGrid(df, row=\"race\", row_order=ordered_race,\n",
    "                  height=2.7, aspect=2,)\n",
    "g.map(sns.histplot, \"age\")"
   ]
  },
  {
   "cell_type": "markdown",
   "id": "4934933c-502d-4661-a37e-89d7d6995f52",
   "metadata": {},
   "source": [
    "- distribution of hispanic is sparse as comapared to others"
   ]
  },
  {
   "cell_type": "code",
   "execution_count": 20,
   "id": "10d06d7b-3143-4e5b-b000-e8e534750823",
   "metadata": {},
   "outputs": [
    {
     "data": {
      "text/html": [
       "<div>\n",
       "<style scoped>\n",
       "    .dataframe tbody tr th:only-of-type {\n",
       "        vertical-align: middle;\n",
       "    }\n",
       "\n",
       "    .dataframe tbody tr th {\n",
       "        vertical-align: top;\n",
       "    }\n",
       "\n",
       "    .dataframe thead th {\n",
       "        text-align: right;\n",
       "    }\n",
       "</style>\n",
       "<table border=\"1\" class=\"dataframe\">\n",
       "  <thead>\n",
       "    <tr style=\"text-align: right;\">\n",
       "      <th></th>\n",
       "      <th>id</th>\n",
       "      <th>race</th>\n",
       "      <th>gender</th>\n",
       "      <th>age</th>\n",
       "      <th>new_age</th>\n",
       "      <th>new_race</th>\n",
       "    </tr>\n",
       "  </thead>\n",
       "  <tbody>\n",
       "    <tr>\n",
       "      <th>0</th>\n",
       "      <td>0</td>\n",
       "      <td>Unknown</td>\n",
       "      <td>Male</td>\n",
       "      <td>70</td>\n",
       "      <td>3.43000</td>\n",
       "      <td>White</td>\n",
       "    </tr>\n",
       "    <tr>\n",
       "      <th>1</th>\n",
       "      <td>1</td>\n",
       "      <td>White</td>\n",
       "      <td>Female</td>\n",
       "      <td>71</td>\n",
       "      <td>3.57911</td>\n",
       "      <td>White</td>\n",
       "    </tr>\n",
       "  </tbody>\n",
       "</table>\n",
       "</div>"
      ],
      "text/plain": [
       "   id     race  gender  age  new_age new_race\n",
       "0   0  Unknown    Male   70  3.43000    White\n",
       "1   1    White  Female   71  3.57911    White"
      ]
     },
     "execution_count": 20,
     "metadata": {},
     "output_type": "execute_result"
    }
   ],
   "source": [
    "# modify and merge race\n",
    "df['new_race'] = df['race']\n",
    "df['new_race'].replace(to_replace =\"Unknown\", value =\"White\", inplace=True) # tentatively take mode -> need to check the longitudinal data \n",
    "df['new_race'].replace(to_replace =[\"Hispanic\", \"Asian\", \"Black\"], value =\"Non white\", inplace=True)\n",
    "df.head(2)"
   ]
  },
  {
   "cell_type": "code",
   "execution_count": 21,
   "id": "83f37f4d-0d49-40a0-919f-72a7d24c3c45",
   "metadata": {},
   "outputs": [
    {
     "data": {
      "text/plain": [
       "Text(0.5, 1.0, 'Race count')"
      ]
     },
     "execution_count": 21,
     "metadata": {},
     "output_type": "execute_result"
    },
    {
     "data": {
      "image/png": "[encoded data removed]",
      "text/plain": [
       "<Figure size 432x288 with 1 Axes>"
      ]
     },
     "metadata": {
      "needs_background": "light"
     },
     "output_type": "display_data"
    }
   ],
   "source": [
    "# distribution over race\n",
    "ax = sns.countplot(x=\"new_race\", data=df)\n",
    "ax.set_title(\"Race count\")"
   ]
  },
  {
   "cell_type": "markdown",
   "id": "bb56bf30-a952-45cc-b810-b1197cec1728",
   "metadata": {},
   "source": [
    "- still not similar after merging"
   ]
  },
  {
   "cell_type": "code",
   "execution_count": 22,
   "id": "0e655cba-f0ab-4efb-b133-dd1581aa2d20",
   "metadata": {},
   "outputs": [
    {
     "data": {
      "text/html": [
       "<div>\n",
       "<style scoped>\n",
       "    .dataframe tbody tr th:only-of-type {\n",
       "        vertical-align: middle;\n",
       "    }\n",
       "\n",
       "    .dataframe tbody tr th {\n",
       "        vertical-align: top;\n",
       "    }\n",
       "\n",
       "    .dataframe thead th {\n",
       "        text-align: right;\n",
       "    }\n",
       "</style>\n",
       "<table border=\"1\" class=\"dataframe\">\n",
       "  <thead>\n",
       "    <tr style=\"text-align: right;\">\n",
       "      <th></th>\n",
       "      <th>id</th>\n",
       "      <th>Stage_Progress</th>\n",
       "    </tr>\n",
       "  </thead>\n",
       "  <tbody>\n",
       "    <tr>\n",
       "      <th>0</th>\n",
       "      <td>0</td>\n",
       "      <td>True</td>\n",
       "    </tr>\n",
       "    <tr>\n",
       "      <th>1</th>\n",
       "      <td>1</td>\n",
       "      <td>False</td>\n",
       "    </tr>\n",
       "    <tr>\n",
       "      <th>2</th>\n",
       "      <td>2</td>\n",
       "      <td>True</td>\n",
       "    </tr>\n",
       "    <tr>\n",
       "      <th>3</th>\n",
       "      <td>3</td>\n",
       "      <td>False</td>\n",
       "    </tr>\n",
       "    <tr>\n",
       "      <th>4</th>\n",
       "      <td>4</td>\n",
       "      <td>True</td>\n",
       "    </tr>\n",
       "  </tbody>\n",
       "</table>\n",
       "</div>"
      ],
      "text/plain": [
       "   id  Stage_Progress\n",
       "0   0            True\n",
       "1   1           False\n",
       "2   2            True\n",
       "3   3           False\n",
       "4   4            True"
      ]
     },
     "execution_count": 22,
     "metadata": {},
     "output_type": "execute_result"
    }
   ],
   "source": [
    "# read csv\n",
    "df_target = pd.read_csv('dataScienceTask/T_stage.csv')\n",
    "df_target.head()"
   ]
  },
  {
   "cell_type": "code",
   "execution_count": 23,
   "id": "8e592d32-f708-4b7e-a96d-2b8801c07cfa",
   "metadata": {},
   "outputs": [
    {
     "data": {
      "text/plain": [
       "Text(0.5, 1.0, 'Target count')"
      ]
     },
     "execution_count": 23,
     "metadata": {},
     "output_type": "execute_result"
    },
    {
     "data": {
      "image/png": "[encoded data removed]",
      "text/plain": [
       "<Figure size 432x288 with 1 Axes>"
      ]
     },
     "metadata": {
      "needs_background": "light"
     },
     "output_type": "display_data"
    }
   ],
   "source": [
    "# distribution of targets\n",
    "ax = sns.countplot(x=\"Stage_Progress\", data=df_target)\n",
    "ax.set_title(\"Target count\")"
   ]
  },
  {
   "cell_type": "markdown",
   "id": "5a6288f0-a132-43c8-a75a-c8cf89e56cdb",
   "metadata": {},
   "source": [
    "- imabalane dataset as target distribution is unequal so the model will see more False than True stages"
   ]
  },
  {
   "cell_type": "code",
   "execution_count": 24,
   "id": "6d7d65af-4d1a-44f2-8e88-ad997dc7ce61",
   "metadata": {},
   "outputs": [
    {
     "data": {
      "text/html": [
       "<div>\n",
       "<style scoped>\n",
       "    .dataframe tbody tr th:only-of-type {\n",
       "        vertical-align: middle;\n",
       "    }\n",
       "\n",
       "    .dataframe tbody tr th {\n",
       "        vertical-align: top;\n",
       "    }\n",
       "\n",
       "    .dataframe thead th {\n",
       "        text-align: right;\n",
       "    }\n",
       "</style>\n",
       "<table border=\"1\" class=\"dataframe\">\n",
       "  <thead>\n",
       "    <tr style=\"text-align: right;\">\n",
       "      <th></th>\n",
       "      <th>id</th>\n",
       "      <th>race</th>\n",
       "      <th>gender</th>\n",
       "      <th>age</th>\n",
       "      <th>new_age</th>\n",
       "      <th>new_race</th>\n",
       "      <th>stage</th>\n",
       "    </tr>\n",
       "  </thead>\n",
       "  <tbody>\n",
       "    <tr>\n",
       "      <th>0</th>\n",
       "      <td>0</td>\n",
       "      <td>Unknown</td>\n",
       "      <td>Male</td>\n",
       "      <td>70</td>\n",
       "      <td>3.43000</td>\n",
       "      <td>White</td>\n",
       "      <td>True</td>\n",
       "    </tr>\n",
       "    <tr>\n",
       "      <th>1</th>\n",
       "      <td>1</td>\n",
       "      <td>White</td>\n",
       "      <td>Female</td>\n",
       "      <td>71</td>\n",
       "      <td>3.57911</td>\n",
       "      <td>White</td>\n",
       "      <td>False</td>\n",
       "    </tr>\n",
       "    <tr>\n",
       "      <th>2</th>\n",
       "      <td>2</td>\n",
       "      <td>White</td>\n",
       "      <td>Female</td>\n",
       "      <td>57</td>\n",
       "      <td>1.85193</td>\n",
       "      <td>White</td>\n",
       "      <td>True</td>\n",
       "    </tr>\n",
       "    <tr>\n",
       "      <th>3</th>\n",
       "      <td>3</td>\n",
       "      <td>White</td>\n",
       "      <td>Male</td>\n",
       "      <td>74</td>\n",
       "      <td>4.05224</td>\n",
       "      <td>White</td>\n",
       "      <td>False</td>\n",
       "    </tr>\n",
       "    <tr>\n",
       "      <th>4</th>\n",
       "      <td>4</td>\n",
       "      <td>White</td>\n",
       "      <td>Female</td>\n",
       "      <td>50</td>\n",
       "      <td>1.25000</td>\n",
       "      <td>White</td>\n",
       "      <td>True</td>\n",
       "    </tr>\n",
       "  </tbody>\n",
       "</table>\n",
       "</div>"
      ],
      "text/plain": [
       "   id     race  gender  age  new_age new_race  stage\n",
       "0   0  Unknown    Male   70  3.43000    White   True\n",
       "1   1    White  Female   71  3.57911    White  False\n",
       "2   2    White  Female   57  1.85193    White   True\n",
       "3   3    White    Male   74  4.05224    White  False\n",
       "4   4    White  Female   50  1.25000    White   True"
      ]
     },
     "execution_count": 24,
     "metadata": {},
     "output_type": "execute_result"
    }
   ],
   "source": [
    "df['stage'] = df_target['Stage_Progress']\n",
    "df.head()"
   ]
  },
  {
   "cell_type": "code",
   "execution_count": 25,
   "id": "358f1331-eba7-41c2-8150-9f02216f447e",
   "metadata": {},
   "outputs": [
    {
     "data": {
      "text/plain": [
       "Text(0.5, 1.0, 'Gender count')"
      ]
     },
     "execution_count": 25,
     "metadata": {},
     "output_type": "execute_result"
    },
    {
     "data": {
      "image/png": "[encoded data removed]",
      "text/plain": [
       "<Figure size 432x288 with 1 Axes>"
      ]
     },
     "metadata": {
      "needs_background": "light"
     },
     "output_type": "display_data"
    }
   ],
   "source": [
    "# distribution of gender for each target\n",
    "ax = sns.countplot(x=\"stage\", hue='gender', data=df)\n",
    "ax.set_title(\"Gender count\")"
   ]
  },
  {
   "cell_type": "markdown",
   "id": "f8a5329e-8163-477a-a5fd-7d6847669bf1",
   "metadata": {},
   "source": [
    "- unequal distribution -> removing 50 from Female False will help the distributions to be similar \n",
    "- removing from False stage also means overall target distribution wil be more balanced\n",
    "- drawback: loss of data"
   ]
  },
  {
   "cell_type": "code",
   "execution_count": 26,
   "id": "63c78a05-bbf0-4c1f-acd2-234c4cf8eb60",
   "metadata": {},
   "outputs": [
    {
     "data": {
      "text/plain": [
       "Text(0.5, 1.0, 'Race count')"
      ]
     },
     "execution_count": 26,
     "metadata": {},
     "output_type": "execute_result"
    },
    {
     "data": {
      "image/png": "[encoded data removed]",
      "text/plain": [
       "<Figure size 432x288 with 1 Axes>"
      ]
     },
     "metadata": {
      "needs_background": "light"
     },
     "output_type": "display_data"
    }
   ],
   "source": [
    "# distribution of race for each target\n",
    "ax = sns.countplot(x=\"stage\", hue='race', data=df)\n",
    "ax.set_title(\"Race count\")"
   ]
  },
  {
   "cell_type": "code",
   "execution_count": 27,
   "id": "a3550697-e29c-45f9-a467-81ea130a39c9",
   "metadata": {},
   "outputs": [
    {
     "data": {
      "text/plain": [
       "Text(0.5, 1.0, 'Race count')"
      ]
     },
     "execution_count": 27,
     "metadata": {},
     "output_type": "execute_result"
    },
    {
     "data": {
      "image/png": "[encoded data removed]",
      "text/plain": [
       "<Figure size 432x288 with 1 Axes>"
      ]
     },
     "metadata": {
      "needs_background": "light"
     },
     "output_type": "display_data"
    }
   ],
   "source": [
    "# distribution of race for each target\n",
    "ax = sns.countplot(x=\"stage\", hue='new_race', data=df)\n",
    "ax.set_title(\"Race count\")"
   ]
  },
  {
   "cell_type": "markdown",
   "id": "0d4e5d47-996d-4961-b6d4-c8e84325d751",
   "metadata": {},
   "source": [
    "- similar distribution -> race no effect stage outcome?"
   ]
  },
  {
   "cell_type": "code",
   "execution_count": 28,
   "id": "751eeded-95ca-4bb1-9313-2cc685957798",
   "metadata": {},
   "outputs": [
    {
     "data": {
      "text/plain": [
       "Text(0.5, 1.0, 'Target distribution across age')"
      ]
     },
     "execution_count": 28,
     "metadata": {},
     "output_type": "execute_result"
    },
    {
     "data": {
      "image/png": "[encoded data removed]",
      "text/plain": [
       "<Figure size 432x288 with 1 Axes>"
      ]
     },
     "metadata": {
      "needs_background": "light"
     },
     "output_type": "display_data"
    }
   ],
   "source": [
    "ax=sns.histplot(data=df, x=\"age\", hue='stage')\n",
    "ax.set_title(\"Target distribution across age\")"
   ]
  },
  {
   "cell_type": "markdown",
   "id": "f6332e18-1bbc-49ad-9c36-b5e28679c659",
   "metadata": {},
   "source": [
    "- similar distribution -> age no effect stage outcome?"
   ]
  },
  {
   "cell_type": "code",
   "execution_count": 29,
   "id": "74ee9d4f-4d9d-4a30-b4d0-a9b9bf5dc03c",
   "metadata": {},
   "outputs": [],
   "source": [
    "# save new df\n",
    "df.to_csv('dataScienceTask/new_df.csv')"
   ]
  },
  {
   "cell_type": "code",
   "execution_count": null,
   "id": "f168f132-f943-4533-afca-8d016bf28646",
   "metadata": {},
   "outputs": [],
   "source": []
  },
  {
   "cell_type": "code",
   "execution_count": null,
   "id": "26447c04-fb91-4d40-a011-9d6350136d67",
   "metadata": {},
   "outputs": [],
   "source": []
  },
  {
   "cell_type": "code",
   "execution_count": 132,
   "id": "8d672348-0c66-42a5-a8d3-ee4926555b43",
   "metadata": {},
   "outputs": [],
   "source": [
    "#klib.cat_plot(df1, top=2, bottom=2)"
   ]
  },
  {
   "cell_type": "code",
   "execution_count": null,
   "id": "c99a0bbc-21d8-46f8-a44b-7a92999fdc48",
   "metadata": {},
   "outputs": [],
   "source": [
    "# distribution of images across growth stages\n",
    "#cmap = cm.get_cmap('jet')\n",
    "#df.groupby('gender',as_index=True).count()['id'].sort_values(ascending=False).plot(kind=\"bar\", rot=45, cmap='jet', fontsize=10)\n",
    "#plt.title(\"Gender count\")\n",
    "#plt.ylabel(\"count\")\n",
    "#plt.show()"
   ]
  }
 ],
 "metadata": {
  "kernelspec": {
   "display_name": "TFFedJupyter",
   "language": "python",
   "name": "tffedjupyter"
  },
  "language_info": {
   "codemirror_mode": {
    "name": "ipython",
    "version": 3
   },
   "file_extension": ".py",
   "mimetype": "text/x-python",
   "name": "python",
   "nbconvert_exporter": "python",
   "pygments_lexer": "ipython3",
   "version": "3.7.8"
  }
 },
 "nbformat": 4,
 "nbformat_minor": 5
}
